{
 "cells": [
  {
   "cell_type": "code",
   "execution_count": null,
   "id": "ce848147",
   "metadata": {},
   "outputs": [],
   "source": [
    "import requests\n",
    "import json"
   ]
  },
  {
   "cell_type": "code",
   "execution_count": null,
   "id": "3e361541",
   "metadata": {},
   "outputs": [],
   "source": [
    "# Connecting webhook to Sandbox\n",
    "\n",
    "url_post=\"https://waba-sandbox.360dialog.io/v1/configs/webhook\"\n",
    "body = {\n",
    "            \"url\":\"https://2bfa-115-119-250-30.ngrok.io/webhooks/tyntec/webhook\"\n",
    "        }\n",
    "headers = {\"D360-API-KEY\":\"grvAgQ_sandbox\", 'content-type': 'application/json'}\n",
    "\n",
    "x = requests.post(url=url_post,data=json.dumps(body), headers = headers)"
   ]
  },
  {
   "cell_type": "code",
   "execution_count": null,
   "id": "b64e10af",
   "metadata": {},
   "outputs": [],
   "source": [
    "x.json()"
   ]
  },
  {
   "cell_type": "code",
   "execution_count": null,
   "id": "eb4943ed",
   "metadata": {},
   "outputs": [],
   "source": [
    "#Eu<-> 360dialog API <-> custom Falsk API <-> Rasa"
   ]
  },
  {
   "cell_type": "code",
   "execution_count": null,
   "id": "a70df6d0",
   "metadata": {},
   "outputs": [],
   "source": [
    "## Sending message from Sandbox to clien whatsapp number\n",
    "\n",
    "url_message=\"https://waba-sandbox.360dialog.io/v1/messages\"\n",
    "body_message={\n",
    "    \"to\": \"918758914438\",\n",
    "    \"type\": \"text\",\n",
    "    \"text\": {\n",
    "        \"body\": \"Hello, dear customer!\"\n",
    "    }\n",
    "}\n",
    "\n",
    "x1=requests.post(url=url_message,data=json.dumps(body_message), headers = headers)"
   ]
  },
  {
   "cell_type": "code",
   "execution_count": null,
   "id": "52846267",
   "metadata": {},
   "outputs": [],
   "source": [
    "x1.json()"
   ]
  },
  {
   "cell_type": "markdown",
   "id": "dd5c7ef6",
   "metadata": {},
   "source": [
    "# 360dialog and Flask Integration via Webhook"
   ]
  },
  {
   "cell_type": "code",
   "execution_count": 1,
   "id": "c7b0b5cf",
   "metadata": {},
   "outputs": [],
   "source": [
    "import requests\n",
    "import json\n",
    "\n",
    "## Connecting webhook to Sandbox and Flask\n",
    "\n",
    "url_post=\"https://waba-sandbox.360dialog.io/v1/configs/webhook\"\n",
    "body = {\n",
    "            \"url\":\"https://e3bb-223-236-119-236.ngrok.io/webhook/wamessages\"\n",
    "        }\n",
    "headers = {\"D360-API-KEY\":\"grvAgQ_sandbox\", 'content-type': 'application/json'}\n",
    "\n",
    "x = requests.post(url=url_post,data=json.dumps(body), headers = headers)"
   ]
  },
  {
   "cell_type": "code",
   "execution_count": 2,
   "id": "c8874c04",
   "metadata": {},
   "outputs": [
    {
     "data": {
      "text/plain": [
       "{'url': 'https://e3bb-223-236-119-236.ngrok.io/webhook/wamessages'}"
      ]
     },
     "execution_count": 2,
     "metadata": {},
     "output_type": "execute_result"
    }
   ],
   "source": [
    "x.json()"
   ]
  },
  {
   "cell_type": "code",
   "execution_count": 3,
   "id": "42680569",
   "metadata": {},
   "outputs": [
    {
     "data": {
      "text/plain": [
       "200"
      ]
     },
     "execution_count": 3,
     "metadata": {},
     "output_type": "execute_result"
    }
   ],
   "source": [
    "x.status_code"
   ]
  },
  {
   "cell_type": "code",
   "execution_count": null,
   "id": "57f25c6d",
   "metadata": {},
   "outputs": [],
   "source": [
    "## Sending message from Sandbox to clien whatsapp number\n",
    "\n",
    "url_message=\"https://waba-sandbox.360dialog.io/v1/messages\"\n",
    "body_message={\n",
    "    \"to\": \"918758914438\",\n",
    "    \"type\": \"text\",\n",
    "    \"text\": {\n",
    "        \n",
    "        \n",
    "        \"body\": \"Hello, dear customer!\" \n",
    "    }\n",
    "}\n",
    "\n",
    "x1=requests.post(url=url_message,data=json.dumps(body_message), headers = headers)"
   ]
  },
  {
   "cell_type": "code",
   "execution_count": null,
   "id": "bb326181",
   "metadata": {},
   "outputs": [],
   "source": [
    "x1.json()"
   ]
  },
  {
   "cell_type": "code",
   "execution_count": null,
   "id": "22ae0c90",
   "metadata": {},
   "outputs": [],
   "source": [
    "url_chat=\"http://127.0.0.1:5000/chat\"\n",
    "message_chat={\n",
    "    'username':'Piyush','message':'Hello from chat'\n",
    "}\n",
    "headers_chat = {'content-type': 'multipart/form-data'}\n",
    "req_chat=requests.post(url_chat,data=json.dumps(message_chat),headers=headers_chat)"
   ]
  },
  {
   "cell_type": "code",
   "execution_count": null,
   "id": "8d479a3c",
   "metadata": {},
   "outputs": [],
   "source": [
    "req_chat.text"
   ]
  },
  {
   "cell_type": "code",
   "execution_count": null,
   "id": "0eb17cc2",
   "metadata": {},
   "outputs": [],
   "source": []
  }
 ],
 "metadata": {
  "kernelspec": {
   "display_name": "Python 3 (ipykernel)",
   "language": "python",
   "name": "python3"
  },
  "language_info": {
   "codemirror_mode": {
    "name": "ipython",
    "version": 3
   },
   "file_extension": ".py",
   "mimetype": "text/x-python",
   "name": "python",
   "nbconvert_exporter": "python",
   "pygments_lexer": "ipython3",
   "version": "3.8.11"
  }
 },
 "nbformat": 4,
 "nbformat_minor": 5
}

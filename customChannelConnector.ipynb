{
 "cells": [
  {
   "cell_type": "code",
   "execution_count": null,
   "id": "8e8bc114",
   "metadata": {},
   "outputs": [],
   "source": [
    "import json\n",
    "import logging\n",
    "import rasa.core.channels.channel\n",
    "import requests\n",
    "import sanic\n",
    "import sanic.response"
   ]
  },
  {
   "cell_type": "code",
   "execution_count": null,
   "id": "ecae228a",
   "metadata": {},
   "outputs": [],
   "source": [
    "def _compose_tyntec_send_whatsapp_text_request(apikey, from_, to, text):\n",
    "    return requests.Request(\n",
    "        method=\"POST\",\n",
    "        url=\"https://waba-sandbox.360dialog.io/v1/messages\",\n",
    "        headers={\n",
    "            \"Accept\": \"application/json\",\n",
    "            \"apikey\": apikey},\n",
    "        json={\n",
    "            \"from\": from_,\n",
    "            \"to\": to,\n",
    "            \"channel\": \"whatsapp\",\n",
    "            \"content\": {\n",
    "                \"contentType\": \"text\",\n",
    "                \"text\": text}})"
   ]
  },
  {
   "cell_type": "code",
   "execution_count": null,
   "id": "233bb832",
   "metadata": {},
   "outputs": [],
   "source": [
    "def _parse_tyntec_webhook_request(body):\n",
    "    try:\n",
    "        id_ = body[\"messageId\"]\n",
    "        event = body[\"event\"]\n",
    "        from_ = body[\"from\"]\n",
    "        channel = body[\"channel\"]\n",
    "        content_type = body[\"content\"][\"contentType\"]\n",
    "        content_text = body[\"content\"][\"text\"]\n",
    "    except KeyError:\n",
    "        raise ValueError(\"body not a tyntec WhatsApp text message event\")\n",
    " \n",
    "    if event != \"MoMessage\" or channel != \"whatsapp\" or content_type != \"text\":\n",
    "        raise ValueError(\"body not a WhatsApp text message event\")\n",
    " \n",
    "    return _TyntecWhatsAppTextMessage(id_, from_, content_text)"
   ]
  },
  {
   "cell_type": "code",
   "execution_count": null,
   "id": "4d0995a8",
   "metadata": {},
   "outputs": [],
   "source": [
    "class _TyntecWhatsAppTextMessage:\n",
    "    def __init__(self, id_, from_, text):\n",
    "        self.id = id_\n",
    "        self.from_ = from_\n",
    "        self.text = text"
   ]
  },
  {
   "cell_type": "code",
   "execution_count": null,
   "id": "8510f3ac",
   "metadata": {},
   "outputs": [],
   "source": [
    "class TyntecInputChannel(rasa.core.channels.channel.InputChannel):\n",
    "    def __init__(self, waba, tyntec_apikey, requests_session=None):\n",
    "        if requests_session is None:\n",
    "            requests_session = requests.Session()\n",
    " \n",
    "        self.requests_session = requests_session\n",
    "        self.tyntec_apikey = tyntec_apikey\n",
    "        self.waba = waba\n",
    " \n",
    "    @classmethod\n",
    "    def from_credentials(cls, credentials):\n",
    "        return cls(credentials[\"waba\"], credentials[\"apikey\"])\n",
    " \n",
    "    @classmethod\n",
    "    def name(cls):\n",
    "        return \"tyntec\"\n",
    " \n",
    "    def blueprint(self, on_new_message):\n",
    "        custom_webhook = sanic.Blueprint(\"tyntec\")\n",
    " \n",
    "        @custom_webhook.route(\"/\", methods=[\"GET\"])\n",
    "        async def health(request):\n",
    "            return sanic.response.json({\"status\": \"ok\"})\n",
    " \n",
    "        @custom_webhook.route(\"/webhook\", methods=[\"POST\"])\n",
    "        async def receive(request):\n",
    "            try:\n",
    "                text_message = _parse_tyntec_webhook_request(request.json)\n",
    "            except ValueError:\n",
    "                request_json = json.dumps(request.json)\n",
    "                logging.warning(f\"Unsupported event skipped: {request_json}\")\n",
    "                return sanic.response.text(f\"Unsupported event skipped: {request_json}\")\n",
    " \n",
    "            await on_new_message(\n",
    "                rasa.core.channels.channel.UserMessage(\n",
    "                    text_message.text,\n",
    "                    TyntecOutputChannel(self.waba, self.tyntec_apikey, self.requests_session),\n",
    "                    text_message.from_,\n",
    "                    input_channel=self.name(),\n",
    "                    message_id=text_message.id))\n",
    " \n",
    "            return sanic.response.text(\"OK\")\n",
    " \n",
    "        return custom_webhook\n",
    " \n",
    " \n",
    "class TyntecOutputChannel(rasa.core.channels.channel.OutputChannel):\n",
    "    def __init__(self, waba, tyntec_apikey, requests_session):\n",
    "        self.requests_session = requests_session\n",
    "        self.tyntec_apikey = tyntec_apikey\n",
    "        self.waba = waba\n",
    " \n",
    "    @classmethod\n",
    "    def name(cls):\n",
    "        return \"tyntec\"\n",
    " \n",
    "    async def send_text_message(self, recipient_id, text, **kwargs):\n",
    "        request = _compose_tyntec_send_whatsapp_text_request(self.tyntec_apikey, self.waba, recipient_id, text)\n",
    "        prepared_request = request.prepare()\n",
    " \n",
    "        response = self.requests_session.send(prepared_request)\n",
    "        response.raise_for_status()"
   ]
  },
  {
   "cell_type": "code",
   "execution_count": null,
   "id": "4e1d4ef4",
   "metadata": {},
   "outputs": [],
   "source": []
  },
  {
   "cell_type": "code",
   "execution_count": null,
   "id": "8af119d2",
   "metadata": {},
   "outputs": [],
   "source": []
  },
  {
   "cell_type": "code",
   "execution_count": null,
   "id": "6512966a",
   "metadata": {},
   "outputs": [],
   "source": []
  },
  {
   "cell_type": "code",
   "execution_count": null,
   "id": "cf7ee4ba",
   "metadata": {},
   "outputs": [],
   "source": []
  },
  {
   "cell_type": "code",
   "execution_count": null,
   "id": "a015731d",
   "metadata": {},
   "outputs": [],
   "source": []
  },
  {
   "cell_type": "code",
   "execution_count": null,
   "id": "96dd8298",
   "metadata": {},
   "outputs": [],
   "source": []
  }
 ],
 "metadata": {
  "kernelspec": {
   "display_name": "Python 3 (ipykernel)",
   "language": "python",
   "name": "python3"
  },
  "language_info": {
   "codemirror_mode": {
    "name": "ipython",
    "version": 3
   },
   "file_extension": ".py",
   "mimetype": "text/x-python",
   "name": "python",
   "nbconvert_exporter": "python",
   "pygments_lexer": "ipython3",
   "version": "3.8.11"
  }
 },
 "nbformat": 4,
 "nbformat_minor": 5
}
